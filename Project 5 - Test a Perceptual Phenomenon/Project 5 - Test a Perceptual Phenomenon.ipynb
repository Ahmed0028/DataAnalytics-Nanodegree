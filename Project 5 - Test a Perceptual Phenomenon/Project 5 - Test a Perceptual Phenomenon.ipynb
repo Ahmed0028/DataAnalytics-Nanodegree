{
 "cells": [
  {
   "cell_type": "markdown",
   "metadata": {},
   "source": [
    "### Analyzing the Stroop Effect\n",
    "Perform the analysis in the space below. Remember to follow [the instructions](https://docs.google.com/document/d/1-OkpZLjG_kX9J6LIQ5IltsqMzVWjh36QpnP2RYpVdPU/pub?embedded=True) and review the [project rubric](https://review.udacity.com/#!/rubrics/71/view) before submitting. Once you've completed the analysis and write up, download this file as a PDF or HTML file and submit in the next section.\n",
    "\n",
    "#### _What is Stroop Effect_ ? \n",
    "In psychology, the _Stroop effect_ is a demonstration of interference in the reaction time of a task. When the name of a color (e.g., \"blue\", \"green\", or \"red\") is printed in a color that is not denoted by the name (e.g., the word \"red\" printed in blue ink instead of red ink), naming the color of the word takes longer and is more prone to errors than when the color of the ink matches the name of the color. The effect is named after John Ridley Stroop, who first published the effect in English in 1935. *Source*: [Wikipedia](https://en.wikipedia.org/wiki/Stroop_effect)\n",
    "\n",
    "#### (1) What is the independent variable? What is the dependent variable?"
   ]
  },
  {
   "cell_type": "markdown",
   "metadata": {},
   "source": [
    "**Independent Variables**:\n",
    " *Text Color* and *Color Name* are the main independent variables. They are sometimes same (for Congruent words condition) or different (Incongruent words condition).<br>\n",
    "**Dependent Variables**:\n",
    " _Reaction time of participants_, i.e the amount of time it takes for the participant to indicate the color."
   ]
  },
  {
   "cell_type": "markdown",
   "metadata": {},
   "source": [
    "#### (2) What is an appropriate set of hypotheses for this task? \n",
    "    What kind of statistical test do you expect to perform? Justify your choices."
   ]
  },
  {
   "cell_type": "markdown",
   "metadata": {},
   "source": [
    "$$H_0: RT_{congruent} \\geq RT_{incongruent}$$ \n",
    "$$H_1: RT_{incongruent} \\geq RT_{congruent}$$\n",
    "* $\\mu_{1}$ =  the average time spent by a participant in the congruent test group.\n",
    "* $\\mu_{2}$ =  the average time spent by a participant in the incongruent test group. <br>"
   ]
  },
  {
   "cell_type": "markdown",
   "metadata": {},
   "source": [
    "**Null Hypothesis** ($H_{0}$): Reaction time for both (congruent and incongruent) conditions are the same or reaction time for congruent condition is faster than incongruent condition. $\\mu_{1} - \\mu_{2} \\geq 0 $ i.e, the time duration for the incongruent condition would be less or equal to the time duration for the congruent condition for the same population. <br>\n",
    "**Alternative Hypothesis:**  ($H_{1}$): There is a noticable increase in reaction time in the incongruent conditions compared to the congruent condition. <br> \n",
    "    $\\mu_{1} - \\mu_{2} < 0 $, i.e, the time duration for the incongruent condition would be greater than the time duration for the congruent condition for the same population. "
   ]
  },
  {
   "cell_type": "markdown",
   "metadata": {},
   "source": [
    "##### Recommended Statistical Test \n",
    "The _t- test_ would be an appropriate statistical test to investigate the Stroop Effect, considering that we have means of two different data, congruent and incongruent condition, the population mean is not known and also that the sample size of our data is small. The *Dependent t-test for paired samples* would be appropriate for this scenario, as here we have only one sample (group of 24 participants) that has been tested twice (for the congurent and incongruent condition)."
   ]
  },
  {
   "cell_type": "markdown",
   "metadata": {},
   "source": [
    "#### (3) Report some descriptive statistics regarding this dataset.\n",
    "Include at least one measure of **central tendency** and at least one **measure of variability** . The name of the data file is _stroopdata.csv_"
   ]
  },
  {
   "cell_type": "code",
   "execution_count": 45,
   "metadata": {},
   "outputs": [],
   "source": [
    "import pandas as pd\n",
    "import numpy as np\n",
    "from scipy import stats\n",
    "import seaborn as sns\n",
    "import matplotlib.pyplot as plt\n",
    "import matplotlib.mlab as mlab\n",
    "%matplotlib inline"
   ]
  },
  {
   "cell_type": "code",
   "execution_count": 46,
   "metadata": {},
   "outputs": [
    {
     "data": {
      "text/html": [
       "<div>\n",
       "<style>\n",
       "    .dataframe thead tr:only-child th {\n",
       "        text-align: right;\n",
       "    }\n",
       "\n",
       "    .dataframe thead th {\n",
       "        text-align: left;\n",
       "    }\n",
       "\n",
       "    .dataframe tbody tr th {\n",
       "        vertical-align: top;\n",
       "    }\n",
       "</style>\n",
       "<table border=\"1\" class=\"dataframe\">\n",
       "  <thead>\n",
       "    <tr style=\"text-align: right;\">\n",
       "      <th></th>\n",
       "      <th>Congruent</th>\n",
       "      <th>Incongruent</th>\n",
       "    </tr>\n",
       "  </thead>\n",
       "  <tbody>\n",
       "    <tr>\n",
       "      <th>0</th>\n",
       "      <td>12.079</td>\n",
       "      <td>19.278</td>\n",
       "    </tr>\n",
       "    <tr>\n",
       "      <th>1</th>\n",
       "      <td>16.791</td>\n",
       "      <td>18.741</td>\n",
       "    </tr>\n",
       "    <tr>\n",
       "      <th>2</th>\n",
       "      <td>9.564</td>\n",
       "      <td>21.214</td>\n",
       "    </tr>\n",
       "    <tr>\n",
       "      <th>3</th>\n",
       "      <td>8.630</td>\n",
       "      <td>15.687</td>\n",
       "    </tr>\n",
       "    <tr>\n",
       "      <th>4</th>\n",
       "      <td>14.669</td>\n",
       "      <td>22.803</td>\n",
       "    </tr>\n",
       "    <tr>\n",
       "      <th>5</th>\n",
       "      <td>12.238</td>\n",
       "      <td>20.878</td>\n",
       "    </tr>\n",
       "    <tr>\n",
       "      <th>6</th>\n",
       "      <td>14.692</td>\n",
       "      <td>24.572</td>\n",
       "    </tr>\n",
       "    <tr>\n",
       "      <th>7</th>\n",
       "      <td>8.987</td>\n",
       "      <td>17.394</td>\n",
       "    </tr>\n",
       "    <tr>\n",
       "      <th>8</th>\n",
       "      <td>9.401</td>\n",
       "      <td>20.762</td>\n",
       "    </tr>\n",
       "    <tr>\n",
       "      <th>9</th>\n",
       "      <td>14.480</td>\n",
       "      <td>26.282</td>\n",
       "    </tr>\n",
       "    <tr>\n",
       "      <th>10</th>\n",
       "      <td>22.328</td>\n",
       "      <td>24.524</td>\n",
       "    </tr>\n",
       "    <tr>\n",
       "      <th>11</th>\n",
       "      <td>15.298</td>\n",
       "      <td>18.644</td>\n",
       "    </tr>\n",
       "    <tr>\n",
       "      <th>12</th>\n",
       "      <td>15.073</td>\n",
       "      <td>17.510</td>\n",
       "    </tr>\n",
       "    <tr>\n",
       "      <th>13</th>\n",
       "      <td>16.929</td>\n",
       "      <td>20.330</td>\n",
       "    </tr>\n",
       "    <tr>\n",
       "      <th>14</th>\n",
       "      <td>18.200</td>\n",
       "      <td>35.255</td>\n",
       "    </tr>\n",
       "    <tr>\n",
       "      <th>15</th>\n",
       "      <td>12.130</td>\n",
       "      <td>22.158</td>\n",
       "    </tr>\n",
       "    <tr>\n",
       "      <th>16</th>\n",
       "      <td>18.495</td>\n",
       "      <td>25.139</td>\n",
       "    </tr>\n",
       "    <tr>\n",
       "      <th>17</th>\n",
       "      <td>10.639</td>\n",
       "      <td>20.429</td>\n",
       "    </tr>\n",
       "    <tr>\n",
       "      <th>18</th>\n",
       "      <td>11.344</td>\n",
       "      <td>17.425</td>\n",
       "    </tr>\n",
       "    <tr>\n",
       "      <th>19</th>\n",
       "      <td>12.369</td>\n",
       "      <td>34.288</td>\n",
       "    </tr>\n",
       "    <tr>\n",
       "      <th>20</th>\n",
       "      <td>12.944</td>\n",
       "      <td>23.894</td>\n",
       "    </tr>\n",
       "    <tr>\n",
       "      <th>21</th>\n",
       "      <td>14.233</td>\n",
       "      <td>17.960</td>\n",
       "    </tr>\n",
       "    <tr>\n",
       "      <th>22</th>\n",
       "      <td>19.710</td>\n",
       "      <td>22.058</td>\n",
       "    </tr>\n",
       "    <tr>\n",
       "      <th>23</th>\n",
       "      <td>16.004</td>\n",
       "      <td>21.157</td>\n",
       "    </tr>\n",
       "  </tbody>\n",
       "</table>\n",
       "</div>"
      ],
      "text/plain": [
       "    Congruent  Incongruent\n",
       "0      12.079       19.278\n",
       "1      16.791       18.741\n",
       "2       9.564       21.214\n",
       "3       8.630       15.687\n",
       "4      14.669       22.803\n",
       "5      12.238       20.878\n",
       "6      14.692       24.572\n",
       "7       8.987       17.394\n",
       "8       9.401       20.762\n",
       "9      14.480       26.282\n",
       "10     22.328       24.524\n",
       "11     15.298       18.644\n",
       "12     15.073       17.510\n",
       "13     16.929       20.330\n",
       "14     18.200       35.255\n",
       "15     12.130       22.158\n",
       "16     18.495       25.139\n",
       "17     10.639       20.429\n",
       "18     11.344       17.425\n",
       "19     12.369       34.288\n",
       "20     12.944       23.894\n",
       "21     14.233       17.960\n",
       "22     19.710       22.058\n",
       "23     16.004       21.157"
      ]
     },
     "execution_count": 46,
     "metadata": {},
     "output_type": "execute_result"
    }
   ],
   "source": [
    "df = pd.read_csv('stroopdata.csv')\n",
    "df"
   ]
  },
  {
   "cell_type": "code",
   "execution_count": 47,
   "metadata": {},
   "outputs": [
    {
     "data": {
      "text/plain": [
       "(24, 2)"
      ]
     },
     "execution_count": 47,
     "metadata": {},
     "output_type": "execute_result"
    }
   ],
   "source": [
    "df.shape"
   ]
  },
  {
   "cell_type": "code",
   "execution_count": 48,
   "metadata": {},
   "outputs": [
    {
     "data": {
      "text/html": [
       "<div>\n",
       "<style>\n",
       "    .dataframe thead tr:only-child th {\n",
       "        text-align: right;\n",
       "    }\n",
       "\n",
       "    .dataframe thead th {\n",
       "        text-align: left;\n",
       "    }\n",
       "\n",
       "    .dataframe tbody tr th {\n",
       "        vertical-align: top;\n",
       "    }\n",
       "</style>\n",
       "<table border=\"1\" class=\"dataframe\">\n",
       "  <thead>\n",
       "    <tr style=\"text-align: right;\">\n",
       "      <th></th>\n",
       "      <th>Congruent</th>\n",
       "      <th>Incongruent</th>\n",
       "    </tr>\n",
       "  </thead>\n",
       "  <tbody>\n",
       "    <tr>\n",
       "      <th>count</th>\n",
       "      <td>24.000000</td>\n",
       "      <td>24.000000</td>\n",
       "    </tr>\n",
       "    <tr>\n",
       "      <th>mean</th>\n",
       "      <td>14.051125</td>\n",
       "      <td>22.015917</td>\n",
       "    </tr>\n",
       "    <tr>\n",
       "      <th>std</th>\n",
       "      <td>3.559358</td>\n",
       "      <td>4.797057</td>\n",
       "    </tr>\n",
       "    <tr>\n",
       "      <th>min</th>\n",
       "      <td>8.630000</td>\n",
       "      <td>15.687000</td>\n",
       "    </tr>\n",
       "    <tr>\n",
       "      <th>25%</th>\n",
       "      <td>11.895250</td>\n",
       "      <td>18.716750</td>\n",
       "    </tr>\n",
       "    <tr>\n",
       "      <th>50%</th>\n",
       "      <td>14.356500</td>\n",
       "      <td>21.017500</td>\n",
       "    </tr>\n",
       "    <tr>\n",
       "      <th>75%</th>\n",
       "      <td>16.200750</td>\n",
       "      <td>24.051500</td>\n",
       "    </tr>\n",
       "    <tr>\n",
       "      <th>max</th>\n",
       "      <td>22.328000</td>\n",
       "      <td>35.255000</td>\n",
       "    </tr>\n",
       "  </tbody>\n",
       "</table>\n",
       "</div>"
      ],
      "text/plain": [
       "       Congruent  Incongruent\n",
       "count  24.000000    24.000000\n",
       "mean   14.051125    22.015917\n",
       "std     3.559358     4.797057\n",
       "min     8.630000    15.687000\n",
       "25%    11.895250    18.716750\n",
       "50%    14.356500    21.017500\n",
       "75%    16.200750    24.051500\n",
       "max    22.328000    35.255000"
      ]
     },
     "execution_count": 48,
     "metadata": {},
     "output_type": "execute_result"
    }
   ],
   "source": [
    "df.describe()"
   ]
  },
  {
   "cell_type": "markdown",
   "metadata": {},
   "source": [
    "#### Central Tendency"
   ]
  },
  {
   "cell_type": "code",
   "execution_count": 49,
   "metadata": {},
   "outputs": [
    {
     "name": "stdout",
     "output_type": "stream",
     "text": [
      "Median Performance in Congruent Condition: 14.3565 seconds\n"
     ]
    }
   ],
   "source": [
    "print('Median Performance in Congruent Condition:',df.Congruent.median(),'seconds')"
   ]
  },
  {
   "cell_type": "code",
   "execution_count": 50,
   "metadata": {},
   "outputs": [
    {
     "name": "stdout",
     "output_type": "stream",
     "text": [
      "Median Performance in InCongruent Condition: 21.0175 seconds\n"
     ]
    }
   ],
   "source": [
    "print('Median Performance in InCongruent Condition:',df.Incongruent.median(),'seconds')"
   ]
  },
  {
   "cell_type": "markdown",
   "metadata": {},
   "source": [
    "* $\\bar X_{c}$ (Mean of the congruent condition) = 14.05\n",
    "* $\\bar X_{ic}$ (Mean for the incongruent condition) = 22.015\n",
    "* $M_{c}$ (Median of the congruent condition) = 14.3565\n",
    "* $M_{ic}$ (Median for the incongruent condition) = 21.0175<br>\n",
    "It does not make much sense to report _Mode_ of the performance scores as every participant score is having a unique time duration."
   ]
  },
  {
   "cell_type": "markdown",
   "metadata": {},
   "source": [
    "#### Measures of Variability"
   ]
  },
  {
   "cell_type": "markdown",
   "metadata": {},
   "source": [
    "The **InterQuartileRange (IQR)** also called the _middle 50%_ or _H-Spread_ is a measure of statistical dispersion gives the difference between the 25th and 75th percentile (or) upper and lower quartile of the data distribution. IQR = Q3 - Q1. <br>\n",
    "* $C_{Q1} = 11.89,   IC_{Q1} = 18.71$\n",
    "* $C_{Q3} = 16.20,   IC_{Q3} = 24.05$"
   ]
  },
  {
   "cell_type": "markdown",
   "metadata": {},
   "source": [
    "After finding the values of the first and third quartile we can determine the inner quartile range\n",
    "(IQR) for each data set.\n",
    "* $IQR_{C} = 4.31$ ( IQR for Congruent Condition )\n",
    "* $IQR_{IC} = 7.85$ ( IQR for Incongruent Condition )"
   ]
  },
  {
   "cell_type": "markdown",
   "metadata": {},
   "source": [
    "From ```df.describe()``` we see that the:\n",
    "* $SD_{C}$ = 3.559 (Standard Deviation of performance for Congruent Condition)\n",
    "* $SD_{IC}$ = 4.797 (Standard Deviation of performance for Incongruent Condition)"
   ]
  },
  {
   "cell_type": "markdown",
   "metadata": {},
   "source": [
    "#### (4) Provide one or two visualizations that show the distribution of the sample data. \n",
    "    Write one or two sentences noting what you observe about the plot or plots."
   ]
  },
  {
   "cell_type": "code",
   "execution_count": 51,
   "metadata": {},
   "outputs": [
    {
     "data": {
      "image/png": "[encoded data removed]",
      "text/plain": [
       "<matplotlib.figure.Figure at 0x7f8ee123af60>"
      ]
     },
     "metadata": {},
     "output_type": "display_data"
    }
   ],
   "source": [
    "import matplotlib.ticker as plticker\n",
    "## Box Plot of dataset\n",
    "fig = plt.figure(figsize=(16,6))\n",
    "ax = sns.boxplot(data=df, orient=\"v\", palette=\"Set2\")\n",
    "loc = plticker.MultipleLocator(base=2.0) ## To put ticks at regular intervals of 2 units\n",
    "ax.yaxis.set_major_locator(loc) \n",
    "plt.ylabel('Reaction Time (secs)',fontsize = 12);\n",
    "plt.title('Performance of Participants for Stroop effect Study',fontsize = 15);"
   ]
  },
  {
   "cell_type": "markdown",
   "metadata": {},
   "source": [
    "A **BoxPlot** gives us a graphical representation of the range of each set of data at a glance. It shows the median, the IQR range and also any outliers in the dataset. In the data we see that there is a significant increase in Reaction Time from the congruent test versus the incongruent test as 75% of the data in the incongruent test is above the IQR of the congruent test. That being said about 25% of the data in the congruent test overlaps with the lower quartile of the Incongruent tests when considering all data. We also see two outliers in the incongruent condition taking more than 33 secs. But on the whole, the data leads us to believe that incongruent tests will take longer to finish than the congruent test."
   ]
  },
  {
   "cell_type": "code",
   "execution_count": 52,
   "metadata": {},
   "outputs": [
    {
     "data": {
      "text/plain": [
       "Text(0.5,0,'Reaction Time (secs)')"
      ]
     },
     "execution_count": 52,
     "metadata": {},
     "output_type": "execute_result"
    },
    {
     "data": {
      "image/png": "[encoded data removed]",
      "text/plain": [
       "<matplotlib.figure.Figure at 0x7f8ee11a9208>"
      ]
     },
     "metadata": {},
     "output_type": "display_data"
    }
   ],
   "source": [
    "## Hist Plot with Normal Curve for Congruent dataset\n",
    "plt.figure(figsize=(16,4))\n",
    "#Conguent Condition Plot\n",
    "arr_c = df.Congruent.tolist()\n",
    "result = plt.hist(arr_c)\n",
    "plt.xlim(min(arr_c),max(arr_c))\n",
    "## Normalizing Hist plot to match with Distribution plot\n",
    "mean = np.mean(arr_c)\n",
    "variance = np.var(arr_c)\n",
    "sigma = np.sqrt(variance)\n",
    "x = np.linspace(min(arr_c), max(arr_c), 100)\n",
    "dx = result[1][1] - result[1][0]\n",
    "scale = len(arr_c)*dx\n",
    "plt.plot(x, mlab.normpdf(x, mean, sigma)*scale)\n",
    "plt.title('Hist Plot with Normal Curve for Congruent Condition Performance')\n",
    "plt.ylabel('Frequency')\n",
    "plt.xlabel('Reaction Time (secs)')"
   ]
  },
  {
   "cell_type": "code",
   "execution_count": 53,
   "metadata": {},
   "outputs": [
    {
     "data": {
      "text/plain": [
       "Text(0.5,0,'Reaction Time (secs)')"
      ]
     },
     "execution_count": 53,
     "metadata": {},
     "output_type": "execute_result"
    },
    {
     "data": {
      "image/png": "[encoded data removed]",
      "text/plain": [
       "<matplotlib.figure.Figure at 0x7f8ee11c33c8>"
      ]
     },
     "metadata": {},
     "output_type": "display_data"
    }
   ],
   "source": [
    "## Hist Plot with Normal Curve for InCongruent dataset\n",
    "plt.figure(figsize=(16,4))\n",
    "#Inconguent Condition Plot\n",
    "arr_ic = df.Incongruent.tolist()\n",
    "result = plt.hist(arr_ic)\n",
    "plt.xlim(min(arr_ic),max(arr_ic))\n",
    "## Normalizing Hist plot to match with Distribution plot\n",
    "mean = np.mean(arr_ic)\n",
    "variance = np.var(arr_ic)\n",
    "sigma = np.sqrt(variance)\n",
    "x = np.linspace(min(arr_ic), max(arr_ic), 100)\n",
    "dx = result[1][1] - result[1][0]\n",
    "scale = len(arr_ic)*dx\n",
    "plt.plot(x, mlab.normpdf(x, mean, sigma)*scale)\n",
    "plt.title('Hist Plot with Normal Curve for Incongruent Condition Performance')\n",
    "plt.ylabel('Frequency')\n",
    "plt.xlabel('Reaction Time (secs)')"
   ]
  },
  {
   "cell_type": "markdown",
   "metadata": {},
   "source": [
    "Another means to visualize the data can be done through a Kernel Density Estimation Plot which gives the probability density function in y-axis for the occurence of a particular data in the x-axis.  We can also use a histogram and normalized curve combination which categorizes the data into frequencies to see how the data falls proportionally within ranges and gives us an approximation of the shape of the data’s distribution."
   ]
  },
  {
   "cell_type": "code",
   "execution_count": 54,
   "metadata": {},
   "outputs": [
    {
     "data": {
      "text/plain": [
       "[Text(0,0.5,'Kernel Density'),\n",
       " Text(0.5,0,'ReactionTime in (secs)'),\n",
       " Text(0.5,1,'KDE Plot of performance in InCongruent Condition')]"
      ]
     },
     "execution_count": 54,
     "metadata": {},
     "output_type": "execute_result"
    },
    {
     "data": {
      "image/png": "[encoded data removed]",
      "text/plain": [
       "<matplotlib.figure.Figure at 0x7f8ee1089fd0>"
      ]
     },
     "metadata": {},
     "output_type": "display_data"
    },
    {
     "data": {
      "image/png": "[encoded data removed]",
      "text/plain": [
       "<matplotlib.figure.Figure at 0x7f8ee1089f60>"
      ]
     },
     "metadata": {},
     "output_type": "display_data"
    }
   ],
   "source": [
    "## Histogram and Density Plot of Congruent Condition Dataset.\n",
    "fig, (ax1,ax2) = plt.subplots(figsize=(16,4),ncols=2)\n",
    "ax = sns.distplot(df.Congruent,bins = 10,kde = False, rug=True, ax = ax1)\n",
    "ax.set(xlabel='ReactionTime in (secs)', ylabel='Frequency',title = 'Hist Plot of performance in Congruent Condition')\n",
    "ax = sns.kdeplot(df.Congruent, shade=True, ax = ax2);\n",
    "ax.set(xlabel='ReactionTime in (secs)', ylabel='Kernel Density',title = 'KDE Plot of performance in Congruent Condition')\n",
    "fig, (ax3,ax4) = plt.subplots(figsize=(16,4),ncols=2)\n",
    "ax = sns.distplot(df.Incongruent,bins = 10,kde = False, rug=True, ax = ax3)\n",
    "ax.set(xlabel='ReactionTime in (secs)', ylabel='Frequency',title = 'Hist Plot of performance in InCongruent Condition')\n",
    "ax = sns.kdeplot(df.Incongruent, shade=True, ax = ax4);\n",
    "ax.set(xlabel='ReactionTime in (secs)', ylabel='Kernel Density',title = 'KDE Plot of performance in InCongruent Condition')"
   ]
  },
  {
   "cell_type": "markdown",
   "metadata": {},
   "source": [
    "The hist and distribution plot for _Incongruent Condition_ shows a firmly right-skewed data distribution, whereas for the _Congruent Condition_ the data is closer to a normal (Gaussian) distrubition curve. There are more reaction time scores in the 14 - 16 seconds range in the Congruent Condition and for the Incongruent Condition we see more scores in the 20 - 22 seconds range"
   ]
  },
  {
   "cell_type": "markdown",
   "metadata": {},
   "source": [
    "#### (5) Now, perform the statistical test and report the results. \n",
    "    What is the confidence level and your critical statistic value? Do you reject the null hypothesis or fail to reject it?\n",
    "    Come to a conclusion in terms of the experiment task. Did the results match up with your expectations?"
   ]
  },
  {
   "cell_type": "code",
   "execution_count": 55,
   "metadata": {},
   "outputs": [],
   "source": [
    "np.random.seed(12345678) # fix random seed to get same numbers"
   ]
  },
  {
   "cell_type": "code",
   "execution_count": 56,
   "metadata": {},
   "outputs": [
    {
     "name": "stdout",
     "output_type": "stream",
     "text": [
      "The t-statistic is 8.021 and the p-value is 0.000.\n"
     ]
    }
   ],
   "source": [
    "## Running a Dependent t-test for paired samples\n",
    "paired_sample = stats.ttest_rel(arr_ic, arr_c)\n",
    "print (\"The t-statistic is %.3f and the p-value is %.3f.\" % paired_sample)"
   ]
  },
  {
   "cell_type": "markdown",
   "metadata": {},
   "source": [
    "A large t-statistic score of 8.021 indicates that there is indeed a significant different in performance between the two test conditions. Now that we have the t-statistic we can compare it to the T-critical value to determine if the NULL Hypothesis ($H_{0}$) should be accepted or rejected. Since we have \n",
    "* **N = 24** (No. of Participants in both Congruent and Incongruent conditions)\n",
    "* So, (*degrees of Freedom*) **df** = N - 1 = 23  "
   ]
  },
  {
   "cell_type": "markdown",
   "metadata": {},
   "source": [
    " From the t-test [look up table](http://www.sjsu.edu/faculty/gerstman/StatPrimer/t-table.pdf), we can find that for **df = 23** and for 99.50% Confidence Interval and Type-I error rate ( $\\alpha$ = 0.005), the critical t-value is +/- 2.807\n",
    "Since our computed t-statistic value of 8.021 is larger than the critical value and smaller the p-value which is less the threshold 0.01 (for 99% confidence interval), we can **reject the NULL Hypothesis ($H_{0}$)**"
   ]
  },
  {
   "cell_type": "markdown",
   "metadata": {},
   "source": [
    "The t-test confirms what was expected from the above plots, that the reaction time in incongruent test condition would normally take longer than the reaction time for congruent condition as congruent test linked both visual colors with the correct printed name of the color, while incongruent required to try to separate the visual color and the name of the color which\n",
    "required a bit more processing time by the human time to do. "
   ]
  },
  {
   "cell_type": "markdown",
   "metadata": {},
   "source": [
    "#### 6.) Optional: What do you think is responsible for the effects observed?\n",
    "    Can you think of an alternative or similar task that would result in a similar effect? Some research about the problem will be helpful for thinking about these two questions!"
   ]
  },
  {
   "cell_type": "markdown",
   "metadata": {},
   "source": [
    "The Stroop effect (sometimes called the Stroop test) is an outcome of our mental (attentional) vitality and flexibility. Current research on the Stroop effect emphasizes the interference that automatic processing of words has on the more mentally effortful task of just naming the ink color. Thus it takes longer time for people to read the word and then match the color (in incongruent condition) then simply reading out the color by visual inference (as in congruent condition)."
   ]
  },
  {
   "cell_type": "markdown",
   "metadata": {},
   "source": [
    "Numerous studies and research has been done on the Stroop Effect since J.R.Stroop first published his landmark article on attention and interference, in 1935. One related study is _The Numerical Stroop Effect_ which demonstrates the close relationship between numerical values and physical sizes. Here Digits symbolize numerical values but they also have physical sizes. In this case the \n",
    "* Dependent (response) variable is _Reaction time of participants_ to identify the correct digit, and\n",
    "* Independent  (predictor) variables are the _Size of the digit_ and _the digit_ itself."
   ]
  },
  {
   "cell_type": "markdown",
   "metadata": {},
   "source": [
    "#### References"
   ]
  },
  {
   "cell_type": "markdown",
   "metadata": {},
   "source": [
    "* [Wikipedia - Stroop Effect](https://en.wikipedia.org/wiki/Stroop_effect)\n",
    "* [Wikipedia - Dependent t-test for Paired Samples](https://en.wikipedia.org/wiki/Student%27s_t-test#Dependent_t-test_for_paired_samples)\n",
    "* [Towards Data Science - Inferential Stats - t-test using numpy](https://towardsdatascience.com/inferential-statistics-series-t-test-using-numpy-2718f8f9bf2f)\n",
    "* [Seas.umich.edu - Stroop Effect](http://seas.umich.edu/eplab/demos/st0/stroopdesc.html)\n",
    "* [Half a Century of Research on the Stroop Effect: An Integrative Review](http://melaniestefan.net/MacLeod1991.pdf)"
   ]
  }
 ],
 "metadata": {
  "kernelspec": {
   "display_name": "Python 3",
   "language": "python",
   "name": "python3"
  },
  "language_info": {
   "codemirror_mode": {
    "name": "ipython",
    "version": 3
   },
   "file_extension": ".py",
   "mimetype": "text/x-python",
   "name": "python",
   "nbconvert_exporter": "python",
   "pygments_lexer": "ipython3",
   "version": "3.6.3"
  }
 },
 "nbformat": 4,
 "nbformat_minor": 2
}
